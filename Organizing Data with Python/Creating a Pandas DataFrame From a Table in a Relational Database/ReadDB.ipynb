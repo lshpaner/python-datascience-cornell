{
 "cells": [
  {
   "cell_type": "markdown",
   "metadata": {
    "nbgrader": {
     "grade": false,
     "grade_id": "cell-8a4b4f554cb38236",
     "locked": true,
     "schema_version": 3,
     "solution": false,
     "task": false
    }
   },
   "source": [
    "## Reading Tables from a Relational Database"
   ]
  },
  {
   "cell_type": "markdown",
   "metadata": {
    "nbgrader": {
     "grade": false,
     "grade_id": "cell-8ce176ae1d985e55",
     "locked": true,
     "schema_version": 3,
     "solution": false,
     "task": false
    }
   },
   "source": [
    "Relational databases can hold multiple data tables, and are often used when those tables are related to each other through the use of shared keys.  Many relational databases support queries in SQL, the \"Structured Query Language\", to extract data based on criteria of interest.  The SQLAlchemy package in Python enables one to connect to a SQL database and extract data based on SQL queries into Pandas DataFrames.\n",
    "\n",
    "Let's start with a couple imports &mdash; execute the code cell below."
   ]
  },
  {
   "cell_type": "code",
   "execution_count": 1,
   "metadata": {
    "nbgrader": {
     "grade": false,
     "grade_id": "cell-dd1a3c109930ac61",
     "locked": true,
     "schema_version": 3,
     "solution": false,
     "task": false
    }
   },
   "outputs": [],
   "source": [
    "from sqlalchemy import create_engine\n",
    "import pandas as pd"
   ]
  },
  {
   "cell_type": "markdown",
   "metadata": {
    "nbgrader": {
     "grade": false,
     "grade_id": "cell-48b4d1c24ef57b34",
     "locked": true,
     "schema_version": 3,
     "solution": false,
     "task": false
    }
   },
   "source": [
    "### Step 1.\n",
    "\n",
    "You will be working with a sqlite database named \"product_data.sqlite\". sqlite is a relational database management system that support SQL databases in files, as opposed to residing on a separate database server somewhere.\n",
    "\n",
    "Execute the code cell below. It contains an expression that creates a sqlalchemy engine object by connecting to the \"product_data.sqlite\" database, and assigns that object to variable `engine`."
   ]
  },
  {
   "cell_type": "code",
   "execution_count": 2,
   "metadata": {
    "nbgrader": {
     "grade": false,
     "grade_id": "cell-ca81cca1d514cc94",
     "locked": true,
     "schema_version": 3,
     "solution": false,
     "task": false
    }
   },
   "outputs": [],
   "source": [
    "engine = create_engine('sqlite:///product_data.sqlite')"
   ]
  },
  {
   "cell_type": "markdown",
   "metadata": {
    "nbgrader": {
     "grade": false,
     "grade_id": "cell-6642adada4505056",
     "locked": true,
     "schema_version": 3,
     "solution": false,
     "task": false
    }
   },
   "source": [
    "### Step 2.\n",
    "\n",
    "Since a relational database can hold multiple tables, it's useful to be able to determine what tables are contained in a database.  The engine object you created has a method called ```table_names``` that returns a list of table names.  Use this method to assign the list of table names to the variable ```tables```, and print the value of ```tables```."
   ]
  },
  {
   "cell_type": "markdown",
   "metadata": {
    "nbgrader": {
     "grade": false,
     "grade_id": "cell-395570a2a9d2a125",
     "locked": true,
     "schema_version": 1,
     "solution": false
    }
   },
   "source": [
    "## Graded Cell\n",
    "\n",
    "This cell is worth 30% of the grade for this assignment."
   ]
  },
  {
   "cell_type": "code",
   "execution_count": 3,
   "metadata": {
    "nbgrader": {
     "grade": false,
     "grade_id": "cell-212c29bb79e33f31",
     "locked": true,
     "schema_version": 1,
     "solution": false,
     "task": false
    }
   },
   "outputs": [],
   "source": [
    "tables = engine.table_names()"
   ]
  },
  {
   "cell_type": "markdown",
   "metadata": {
    "nbgrader": {
     "grade": false,
     "grade_id": "cell-d5b090bdb6ee802d",
     "locked": true,
     "schema_version": 1,
     "solution": false
    }
   },
   "source": [
    "## Self-Check\n",
    "\n",
    "Run the cell below to test the correctness of your code above before submitting for grading."
   ]
  },
  {
   "cell_type": "code",
   "execution_count": 4,
   "metadata": {
    "nbgrader": {
     "grade": false,
     "grade_id": "cell-f7261ad599453dc3",
     "locked": true,
     "schema_version": 1,
     "solution": false
    }
   },
   "outputs": [
    {
     "name": "stdout",
     "output_type": "stream",
     "text": [
      "Correct!\n"
     ]
    }
   ],
   "source": [
    "# Run this self-test cell to check your code; do not add code or delete code in this cell\n",
    "from jn import testTables\n",
    "\n",
    "try:\n",
    "    print(testTables(tables))    \n",
    "except Exception as e:\n",
    "    print(\"Error!\\n\" + str(e))"
   ]
  },
  {
   "cell_type": "markdown",
   "metadata": {
    "nbgrader": {
     "grade": false,
     "grade_id": "cell-e95e285cbaf31f18",
     "locked": true,
     "schema_version": 3,
     "solution": false,
     "task": false
    }
   },
   "source": [
    "### Step 3.\n",
    "\n",
    "Following the examples shown in the video, in the code cell below, write and evaluate three statements to extract the sales, orders, and inventory tables from the databases, and assign each of those dataframes to an associated variable (named ```sales```, ```orders```, and ```inventory```, respectively).  Inspect each of the three dataframes, either by printing them out in the cell below, or adding additional code cells to inspect the contents of each dataframe individually."
   ]
  },
  {
   "cell_type": "code",
   "execution_count": 5,
   "metadata": {
    "nbgrader": {
     "grade": false,
     "grade_id": "cell-820e78f7a0c6cbc6",
     "locked": true,
     "schema_version": 3,
     "solution": false,
     "task": false
    }
   },
   "outputs": [],
   "source": [
    "sales = pd.read_sql_query('SELECT * FROM sales',engine)\n",
    "orders = pd.read_sql_query('SELECT * FROM orders',engine)\n",
    "inventory = pd.read_sql_query('SELECT * FROM inventory',engine)"
   ]
  },
  {
   "cell_type": "markdown",
   "metadata": {
    "nbgrader": {
     "grade": false,
     "grade_id": "cell-d007f0f52a1ece18",
     "locked": true,
     "schema_version": 3,
     "solution": false,
     "task": false
    }
   },
   "source": [
    "### Step 4.\n",
    "\n",
    "Inspect the `inventory table`. You will see a column named `paper`. Imagine you want to know when your inventory of paper is too large, say, more than 700 reams.  In the code cell below, write and evaluate an expression to extract the rows in which the paper inventory is more than 700. Assign the database output to the variable ```too_much_paper```, and examine the extracted dataframe.\n",
    "\n",
    "Hint: \n",
    "If you are uncertain about how to write this query, take a moment to reflect on the example Professor Myers provided in the \"Reading Tables From a Relational Database\" video. In that video, Professor Myers used the following SQL query to illustrate one way you can refine a query to return very precise information from a database.\n",
    "\n",
    "`low_inventory = pd.read_sql_query('SELECT * from inventory where (Pencils < 200) or (Pens < 200) or (Erasers < 50) or (Paper < 300)', engine)`\n",
    "\n",
    "This query asks the `inventory` table to return all of its records where either the value in the `Pencils` column is less than 200 or the value in the `Pens` column is less than 200 or the value in the `Erasers` column is less than 50 or the value in the `Paper` column is less than 300.\n",
    "\n",
    "In fact, the sample query above gives you more than you need to achieve the goal of this assignement. Because you are asked to return rows where `Paper` is greater than 700, you won't need all of the additional `or` statements that check the values in other columns."
   ]
  },
  {
   "cell_type": "markdown",
   "metadata": {
    "nbgrader": {
     "grade": false,
     "grade_id": "cell-e8c97992f6428262",
     "locked": true,
     "schema_version": 1,
     "solution": false
    }
   },
   "source": [
    "## Graded Cell\n",
    "\n",
    "This cell is worth 35% of the grade for this assignment."
   ]
  },
  {
   "cell_type": "code",
   "execution_count": 6,
   "metadata": {
    "nbgrader": {
     "grade": false,
     "grade_id": "cell-dc51ca51f1e556d8",
     "locked": true,
     "schema_version": 1,
     "solution": false,
     "task": false
    }
   },
   "outputs": [],
   "source": [
    "too_much_paper = pd.read_sql_query('SELECT * FROM inventory where Paper > 700',engine)"
   ]
  },
  {
   "cell_type": "markdown",
   "metadata": {
    "nbgrader": {
     "grade": false,
     "grade_id": "cell-32879adaa95cdb84",
     "locked": true,
     "schema_version": 1,
     "solution": false
    }
   },
   "source": [
    "## Self-Check\n",
    "\n",
    "Run the cell below to test the correctness of your code above before submitting for grading."
   ]
  },
  {
   "cell_type": "code",
   "execution_count": 7,
   "metadata": {
    "nbgrader": {
     "grade": false,
     "grade_id": "cell-a69ea7bfd58d6190",
     "locked": true,
     "schema_version": 1,
     "solution": false
    }
   },
   "outputs": [
    {
     "name": "stdout",
     "output_type": "stream",
     "text": [
      "Correct!\n"
     ]
    }
   ],
   "source": [
    "# Run this self-test cell to check your code; do not add code or delete code in this cell\n",
    "from jn import testPaper\n",
    "\n",
    "try:\n",
    "    print(testPaper(too_much_paper))    \n",
    "except Exception as e:\n",
    "    print(\"Error!\\n\" + str(e))"
   ]
  },
  {
   "cell_type": "markdown",
   "metadata": {
    "nbgrader": {
     "grade": false,
     "grade_id": "cell-111df7832baaf2fa",
     "locked": true,
     "schema_version": 3,
     "solution": false,
     "task": false
    }
   },
   "source": [
    "### Step 5.\n",
    "\n",
    "SQL queries provide a wide range of functionalities.  For example, you can numerically sort the rows in the output with the keywords ```order by```.  Imagine you have a SQL query like 'select [MAIN QUERY]' where MAIN_QUERY reflects whatever you're extracting from the database; you can tack on to the end of a SQL query string additional query details of the form:\n",
    "\n",
    "* 'select [MAIN QUERY] order by COLUMN_NAME' : to sort the output based on the specified COLUMN_NAME in ascending order (default)\n",
    "\n",
    "* 'select [MAIN QUERY] order by COLUMN_NAME desc' : to sort the output based on the specified COLUMN_NAME in descending order\n",
    "\n",
    "In the code cell below, write and evaluate an expression to extract all the sales data (using the 'select * from sales' query you've used previously), sorted in descending order by the Paper sales in each month.  Assign the result to the variable ```top_paper_sales``` and inspect the dataframe."
   ]
  },
  {
   "cell_type": "markdown",
   "metadata": {
    "nbgrader": {
     "grade": false,
     "grade_id": "cell-ad8042bbc7e70394",
     "locked": true,
     "schema_version": 1,
     "solution": false
    }
   },
   "source": [
    "## Graded Cell\n",
    "\n",
    "This cell is worth 35% of the grade for this assignment."
   ]
  },
  {
   "cell_type": "code",
   "execution_count": 8,
   "metadata": {
    "nbgrader": {
     "grade": false,
     "grade_id": "cell-5440e5d05f4d5d9b",
     "locked": true,
     "schema_version": 1,
     "solution": false,
     "task": false
    }
   },
   "outputs": [],
   "source": [
    "top_paper_sales = pd.read_sql_query('SELECT * FROM sales order by Paper desc',engine)"
   ]
  },
  {
   "cell_type": "markdown",
   "metadata": {
    "nbgrader": {
     "grade": false,
     "grade_id": "cell-94c4b1c14aee4155",
     "locked": true,
     "schema_version": 1,
     "solution": false
    }
   },
   "source": [
    "## Self-Check\n",
    "\n",
    "Run the cell below to test the correctness of your code above before submitting for grading."
   ]
  },
  {
   "cell_type": "code",
   "execution_count": 9,
   "metadata": {
    "nbgrader": {
     "grade": false,
     "grade_id": "cell-9e753847925d7af7",
     "locked": true,
     "schema_version": 1,
     "solution": false
    }
   },
   "outputs": [
    {
     "name": "stdout",
     "output_type": "stream",
     "text": [
      "Correct!\n"
     ]
    }
   ],
   "source": [
    "# Run this self-test cell to check your code; do not add code or delete code in this cell\n",
    "from jn import testPaperSales\n",
    "\n",
    "try:\n",
    "    print(testPaperSales(top_paper_sales))    \n",
    "except Exception as e:\n",
    "    print(\"Error!\\n\" + str(e))"
   ]
  },
  {
   "cell_type": "markdown",
   "metadata": {
    "nbgrader": {
     "grade": false,
     "grade_id": "cell-aaba6b1ce8e7c798",
     "locked": true,
     "schema_version": 3,
     "solution": false,
     "task": false
    }
   },
   "source": [
    "### Step 6.\n",
    "\n",
    "An overview of SQL queries is outside the scope of this course, but if you are familiar with SQL, feel free to experiment some more to extract data from our product database."
   ]
  }
 ],
 "metadata": {
  "kernelspec": {
   "display_name": "Python 3",
   "language": "python",
   "name": "python3"
  },
  "language_info": {
   "codemirror_mode": {
    "name": "ipython",
    "version": 3
   },
   "file_extension": ".py",
   "mimetype": "text/x-python",
   "name": "python",
   "nbconvert_exporter": "python",
   "pygments_lexer": "ipython3",
   "version": "3.6.7"
  }
 },
 "nbformat": 4,
 "nbformat_minor": 2
}
