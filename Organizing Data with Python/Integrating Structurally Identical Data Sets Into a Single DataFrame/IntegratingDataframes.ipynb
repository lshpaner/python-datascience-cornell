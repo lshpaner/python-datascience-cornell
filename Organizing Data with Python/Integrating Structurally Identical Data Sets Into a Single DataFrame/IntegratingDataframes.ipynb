{
 "cells": [
  {
   "cell_type": "markdown",
   "metadata": {
    "nbgrader": {
     "grade": false,
     "grade_id": "cell-0e30e7dcea0b92cd",
     "locked": true,
     "schema_version": 3,
     "solution": false,
     "task": false
    }
   },
   "source": [
    "## Integrating different data sets"
   ]
  },
  {
   "cell_type": "markdown",
   "metadata": {
    "nbgrader": {
     "grade": false,
     "grade_id": "cell-8ab19da0824d3fdb",
     "locked": true,
     "schema_version": 3,
     "solution": false,
     "task": false
    }
   },
   "source": [
    "It is often the case that we are confronted with multiple data sets from different sources, and need to bring them together so that we can operate on that larger collection of data.  Pandas provides a variety of mechanisms for such integration &mdash; including merging, joining, and concatenation, as described in more detail [here](https://pandas.pydata.org/pandas-docs/stable/user_guide/merging.html).  We will explore one such approach here, namely concatenation.  Often associated with such a process are various sorts of data manipulations required to get the final, aggregrated data into a useful form for further analysis.\n",
    "\n",
    "We'll first explore the multiyear sales data that we have examined previously in the video, diving into the code and data in some greater detail."
   ]
  },
  {
   "cell_type": "code",
   "execution_count": 1,
   "metadata": {
    "nbgrader": {
     "grade": false,
     "grade_id": "cell-955b429f1d38ebfb",
     "locked": true,
     "schema_version": 3,
     "solution": false,
     "task": false
    }
   },
   "outputs": [],
   "source": [
    "# First, let's do some imports and configuration\n",
    "import pandas as pd\n",
    "%matplotlib inline"
   ]
  },
  {
   "cell_type": "markdown",
   "metadata": {
    "nbgrader": {
     "grade": false,
     "grade_id": "cell-c5ee6851fa0ab6d3",
     "locked": true,
     "schema_version": 3,
     "solution": false,
     "task": false
    }
   },
   "source": [
    "### Step 1.\n",
    "\n",
    "We can see by inspecting the contents of the sales_directory that we have salesdata from 2000 through 2017, one file for each year.  Execute the code cell below, and examine the output."
   ]
  },
  {
   "cell_type": "code",
   "execution_count": 2,
   "metadata": {
    "nbgrader": {
     "grade": false,
     "grade_id": "cell-472c9cc54e14f871",
     "locked": true,
     "schema_version": 3,
     "solution": false,
     "task": false
    },
    "scrolled": false
   },
   "outputs": [
    {
     "name": "stdout",
     "output_type": "stream",
     "text": [
      "salesdata_2000.csv  salesdata_2005.csv  salesdata_2010.csv  salesdata_2015.csv\r\n",
      "salesdata_2001.csv  salesdata_2006.csv  salesdata_2011.csv  salesdata_2016.csv\r\n",
      "salesdata_2002.csv  salesdata_2007.csv  salesdata_2012.csv  salesdata_2017.csv\r\n",
      "salesdata_2003.csv  salesdata_2008.csv  salesdata_2013.csv\r\n",
      "salesdata_2004.csv  salesdata_2009.csv  salesdata_2014.csv\r\n"
     ]
    }
   ],
   "source": [
    "# examine contents of sales_directory\n",
    "%ls sales_directory"
   ]
  },
  {
   "cell_type": "markdown",
   "metadata": {
    "nbgrader": {
     "grade": false,
     "grade_id": "cell-5be9da9a564f20df",
     "locked": true,
     "schema_version": 3,
     "solution": false,
     "task": false
    }
   },
   "source": [
    "We previously showed in a video a function that executed a number of steps in order to read in each of these datafiles and stores them as dataframes in a dictionary containing the entire group.  \n",
    "\n",
    "Let's revisit that function, presented in the code cell below.  Execute the code cell, and then we'll examine what's going on in a bit more detail below."
   ]
  },
  {
   "cell_type": "code",
   "execution_count": 3,
   "metadata": {
    "nbgrader": {
     "grade": false,
     "grade_id": "cell-26ba62e314e1427c",
     "locked": true,
     "schema_version": 3,
     "solution": false,
     "task": false
    }
   },
   "outputs": [],
   "source": [
    "import glob\n",
    "\n",
    "def read_multiyear_sales_data(directory):\n",
    "    sales = {}\n",
    "    # get names of all files matching this name\n",
    "    salesfiles = glob.glob(directory + '/sales*.csv')\n",
    "    for filename in salesfiles:\n",
    "        # parse year from filename\n",
    "        stop = filename.find('.csv')\n",
    "        start = stop-4 \n",
    "        year = filename[start:stop]\n",
    "        # read in dataframe for this year\n",
    "        df = pd.read_csv(filename, index_col='Month')\n",
    "        # store dataframe in a dictionary\n",
    "        sales[year] = df\n",
    "    return sales\n",
    "\n",
    "sales_by_year = read_multiyear_sales_data('sales_directory')"
   ]
  },
  {
   "cell_type": "markdown",
   "metadata": {
    "nbgrader": {
     "grade": false,
     "grade_id": "cell-91fdf3ffa19bb20d",
     "locked": true,
     "schema_version": 3,
     "solution": false,
     "task": false
    }
   },
   "source": [
    "The function defined, ```read_multiyear_sales_data```, reads all the salesdata csv files in a specified directory, through the following steps:\n",
    "\n",
    "1. initialize an empty dictionary (```sales```)\n",
    "2. get the names of all files of interest (```salesfiles```)\n",
    "3. extract the year from the filename (```year```)\n",
    "4. read in the dataframe for that year (```df```)\n",
    "5. store the dataframe in the ```sales``` dictionary as the value paired to the year \n",
    "6. return filled dictionary\n",
    "\n",
    "We will examine some of these steps in more detail below."
   ]
  },
  {
   "cell_type": "markdown",
   "metadata": {
    "nbgrader": {
     "grade": false,
     "grade_id": "cell-3ecaf28a02ebf9bb",
     "locked": true,
     "schema_version": 3,
     "solution": false,
     "task": false
    }
   },
   "source": [
    "### Step 2.\n",
    "\n",
    "The ```glob``` module in the Python standard library provides the ability to list all the files whose filenames match some specified form, where we can specify wildcard characters that can match multiple filenames.  The key function is ```glob.glob```.\n",
    "\n",
    "In the code cell below, import the glob module, and then assign to the variable ```salesfiles``` all those files in the sales_directory that have a name of the form ```salesdata*.csv```, where ```*``` can represent any sequence of characters (including none at all).\n",
    "\n",
    "After you have assigned to ```salesfiles```, print out that variable.  You should notice that salesfiles is a Python list, containing a sequence of strings.  You might also notice that the list does not necessarily contain strings in their natural chronological order (i.e., from 2000 to 2017). ```glob.glob``` does not guarantee any particular ordering, so if we want some particular ordering, we need to carry that out explicitly, as discussed further down in this exercise."
   ]
  },
  {
   "cell_type": "code",
   "execution_count": 4,
   "metadata": {
    "nbgrader": {
     "grade": false,
     "grade_id": "cell-62162556f53306ae",
     "locked": true,
     "schema_version": 3,
     "solution": false,
     "task": false
    }
   },
   "outputs": [
    {
     "name": "stdout",
     "output_type": "stream",
     "text": [
      "['sales_directory/salesdata_2007.csv', 'sales_directory/salesdata_2005.csv', 'sales_directory/salesdata_2014.csv', 'sales_directory/salesdata_2003.csv', 'sales_directory/salesdata_2006.csv', 'sales_directory/salesdata_2001.csv', 'sales_directory/salesdata_2017.csv', 'sales_directory/salesdata_2011.csv', 'sales_directory/salesdata_2016.csv', 'sales_directory/salesdata_2010.csv', 'sales_directory/salesdata_2008.csv', 'sales_directory/salesdata_2015.csv', 'sales_directory/salesdata_2004.csv', 'sales_directory/salesdata_2009.csv', 'sales_directory/salesdata_2012.csv', 'sales_directory/salesdata_2002.csv', 'sales_directory/salesdata_2013.csv', 'sales_directory/salesdata_2000.csv']\n"
     ]
    }
   ],
   "source": [
    "salesfiles = glob.glob('sales_directory/salesdata*.csv')\n",
    "print(salesfiles)"
   ]
  },
  {
   "cell_type": "markdown",
   "metadata": {
    "nbgrader": {
     "grade": false,
     "grade_id": "cell-b0b2faa85e15729d",
     "locked": true,
     "schema_version": 3,
     "solution": false,
     "task": false
    }
   },
   "source": [
    "### Step 3.\n",
    "\n",
    "Let's say you were only interested in sales data going back to 2010 (i.e., 2010-2017).  In the code cell below, write an expression that uses ```glob.glob``` to return the set of filenames just for those years, and assign the result to the variable ```sales2010s_files```.  Print the value of ```sales2010s_files```."
   ]
  },
  {
   "cell_type": "markdown",
   "metadata": {},
   "source": [
    "## Graded Cell\n",
    "\n",
    "This cell is worth 25% of the grade for this assignment."
   ]
  },
  {
   "cell_type": "code",
   "execution_count": 5,
   "metadata": {
    "nbgrader": {
     "grade": false,
     "grade_id": "cell-86a5bed4a5783c6c",
     "locked": false,
     "schema_version": 3,
     "solution": true,
     "task": false
    }
   },
   "outputs": [
    {
     "name": "stdout",
     "output_type": "stream",
     "text": [
      "['sales_directory/salesdata_2014.csv', 'sales_directory/salesdata_2017.csv', 'sales_directory/salesdata_2011.csv', 'sales_directory/salesdata_2016.csv', 'sales_directory/salesdata_2010.csv', 'sales_directory/salesdata_2015.csv', 'sales_directory/salesdata_2012.csv', 'sales_directory/salesdata_2013.csv']\n"
     ]
    }
   ],
   "source": [
    "sales2010s_files = glob.glob('sales_directory/salesdata_201[0-7].csv')\n",
    "print(sales2010s_files)"
   ]
  },
  {
   "cell_type": "markdown",
   "metadata": {},
   "source": [
    "## Self-Check\n",
    "\n",
    "Run the cell below to test the correctness of your code above before submitting for grading."
   ]
  },
  {
   "cell_type": "code",
   "execution_count": 6,
   "metadata": {},
   "outputs": [
    {
     "name": "stdout",
     "output_type": "stream",
     "text": [
      "Correct!\n"
     ]
    }
   ],
   "source": [
    "# Run this self-test cell to check your code; do not add code or delete code in this cell\n",
    "from jn import testFileNames\n",
    "\n",
    "try:\n",
    "    print(testFileNames(sales2010s_files))    \n",
    "except Exception as e:\n",
    "    print(\"Error!\\n\" + str(e))\n",
    "    "
   ]
  },
  {
   "cell_type": "markdown",
   "metadata": {
    "nbgrader": {
     "grade": false,
     "grade_id": "cell-b5085f1cf44638d2",
     "locked": true,
     "schema_version": 3,
     "solution": false,
     "task": false
    }
   },
   "source": [
    "### Step 4.\n",
    "\n",
    "The function ```read_multiyear_sales_data``` contains a few lines dedicated to extracting the year of a particular filename from the name of the file.  Manipulations of this sort &mdash; small bits of code to extract some useful metadata &mdash; are common in a variety of data science applications.  Let's examine that code in some more detail.  The code in question reads as follows:\n",
    "\n",
    "<pre>\n",
    "# parse year from filename\n",
    "stop = filename.find('.csv')\n",
    "start = stop-4\n",
    "year = filename[start:stop]\n",
    "</pre>\n",
    "\n",
    "The variable ```filename``` changes each time through the for loop (```for filename in salesfiles:```), acquiring successive values of strings contained in ```salesfiles```.  In the code presented below, we won't iterate through all filenames, but just consider one particular file in the loop (e.g., 'sales_directory/salesdata_2010.csv'), setting filename to that string.\n",
    "\n",
    "The variable filename is assigned to a string, so the expression ```filename.find('.csv')``` is a call to the ```find``` method on a string object.  We are doing this so that we can locate the correct position in the string from which to extract the year information &mdash; the expression ```filename.find('.csv')``` returns the position of the string ```'.csv'``` within the larger string ```filename```.  You can understand this by calling up the documentation on this method by executing the code cell below -- the documentation should appear in a small panel near the bottom of this page.  Once you are done reading the documentation, you can close the small panel by clicking on the \"X\" in the upper right corner of the panel."
   ]
  },
  {
   "cell_type": "code",
   "execution_count": 7,
   "metadata": {
    "nbgrader": {
     "grade": false,
     "grade_id": "cell-47b0115b51cc65ec",
     "locked": true,
     "schema_version": 3,
     "solution": false,
     "task": false
    }
   },
   "outputs": [],
   "source": [
    "str.find?"
   ]
  },
  {
   "cell_type": "markdown",
   "metadata": {
    "nbgrader": {
     "grade": false,
     "grade_id": "cell-4a4098824a13e131",
     "locked": true,
     "schema_version": 3,
     "solution": false,
     "task": false
    }
   },
   "source": [
    "Execute the code cell below and examine the printed output.  Then proceed."
   ]
  },
  {
   "cell_type": "code",
   "execution_count": 8,
   "metadata": {
    "nbgrader": {
     "grade": false,
     "grade_id": "cell-4b16a64fb4e880f3",
     "locked": true,
     "schema_version": 3,
     "solution": false,
     "task": false
    }
   },
   "outputs": [
    {
     "name": "stdout",
     "output_type": "stream",
     "text": [
      "26 30 2010\n"
     ]
    }
   ],
   "source": [
    "# parse year from filename\n",
    "filename = 'sales_directory/salesdata_2010.csv'\n",
    "stop = filename.find('.csv')\n",
    "start = stop-4\n",
    "year = filename[start:stop]\n",
    "\n",
    "print(start, stop, year)"
   ]
  },
  {
   "cell_type": "markdown",
   "metadata": {
    "nbgrader": {
     "grade": false,
     "grade_id": "cell-1beb5105ee3c4459",
     "locked": true,
     "schema_version": 3,
     "solution": false,
     "task": false
    }
   },
   "source": [
    "### Step 5.\n",
    "\n",
    "Imagine instead that the filenames in the sales_directory had a different naming convention, e.g., 'year_2010_salesdata.csv','year_2011_salesdata.csv', etc.  In the code cell below, write new code to extract the year from the filename, and print the values of ```start```, ```stop```, and ```year```.  There is more than one correct way to solve this problem, but you'll want to verify that the values are correct regardless the specific approach you use. To be specific about the filename you are trying to parse, begin the code cell below by defining <code>filename = 'sales_directory/year_2012_salesdata.csv'</code>.\n",
    "\n"
   ]
  },
  {
   "cell_type": "markdown",
   "metadata": {},
   "source": [
    "## Graded Cell\n",
    "\n",
    "This cell is worth 25% of the grade for this assignment."
   ]
  },
  {
   "cell_type": "code",
   "execution_count": 9,
   "metadata": {
    "nbgrader": {
     "grade": false,
     "grade_id": "cell-1d324c8beb2382ed",
     "locked": false,
     "schema_version": 3,
     "solution": true,
     "task": false
    }
   },
   "outputs": [],
   "source": [
    "filename = 'sales_directory/year_2012_salesdata.csv'\n",
    "parts = filename.split('_')\n",
    "start = len(parts[0])+1+len(parts[1])+1\n",
    "stop = start+4\n",
    "year = parts[2]"
   ]
  },
  {
   "cell_type": "markdown",
   "metadata": {},
   "source": [
    "## Self-Check\n",
    "\n",
    "Run the cell below to test the correctness of your code above before submitting for grading."
   ]
  },
  {
   "cell_type": "code",
   "execution_count": 10,
   "metadata": {},
   "outputs": [
    {
     "name": "stdout",
     "output_type": "stream",
     "text": [
      "Correct!\n"
     ]
    }
   ],
   "source": [
    "# Run this self-test cell to check your code; do not add code or delete code in this cell\n",
    "from jn import testExtractingFilename\n",
    "\n",
    "try:\n",
    "    print(testExtractingFilename(filename, start, stop, year))    \n",
    "except Exception as e:\n",
    "    print(\"Error!\\n\" + str(e))\n",
    "    "
   ]
  },
  {
   "cell_type": "markdown",
   "metadata": {
    "nbgrader": {
     "grade": false,
     "grade_id": "cell-3ff14e5d73ef6a07",
     "locked": true,
     "schema_version": 3,
     "solution": false,
     "task": false
    }
   },
   "source": [
    "### Step 6.\n",
    "\n",
    "We also previously showed in a video a function that executed a number of steps in order to convert the separate dataframes stored in the sales dictionary created above into one big dataframe, using the concatenation capabilities of pandas (```pd.concat```).  \n",
    "\n",
    "Let's revisit a slightly revised version of that function, presented in the code cell below.\n",
    "\n",
    "Execute the code cell, and then we'll examine what's going on in a bit more detail below."
   ]
  },
  {
   "cell_type": "code",
   "execution_count": 11,
   "metadata": {
    "nbgrader": {
     "grade": false,
     "grade_id": "cell-bb65c2a4f197c925",
     "locked": true,
     "schema_version": 3,
     "solution": false,
     "task": false
    }
   },
   "outputs": [],
   "source": [
    "def make_dataframe_from_sales_data(sales):\n",
    "    # concatentate sales data \n",
    "    df = pd.concat(sales, axis=0, keys=sorted(sales.keys()), names=['Year', 'Month'])\n",
    "    # convert month strings to numbers\n",
    "    lookup = {'Jan': '01', 'Feb': '02', 'Mar': '03',\n",
    "                  'Apr': '04', 'May': '05', 'Jun': '06',\n",
    "                  'Jul': '07', 'Aug': '08', 'Sep': '09',\n",
    "                  'Oct': '10', 'Nov': '11', 'Dec': '12'}\n",
    "    df = df.rename(index=lookup)\n",
    "    # convert the (year, month) MultiIndex to a 'year-month' index\n",
    "    df.index = [\"-\".join(x) for x in df.index.ravel()]\n",
    "    # convert the 'year-month' strings to datetime objects\n",
    "    df.index = pd.to_datetime(df.index)\n",
    "    return df\n",
    "\n",
    "sales_df = make_dataframe_from_sales_data(sales_by_year)"
   ]
  },
  {
   "cell_type": "markdown",
   "metadata": {
    "nbgrader": {
     "grade": false,
     "grade_id": "cell-8eb9ea6daabde866",
     "locked": true,
     "schema_version": 3,
     "solution": false,
     "task": false
    }
   },
   "source": [
    "The function defined, ```make_dataframe_from_sales_data```, converts the multiple sales dataframes into one big dataframe through the following sequence of steps:\n",
    "1. concatenate the separate dataframes in the sales dictionary into a new dataframe (```df```)\n",
    "2. rename the index of the dataframe ```df``` so that month abbreviation strings are converted to number strings\n",
    "3. reconfigure the index of the dataframe ```df``` so that each index label is a combined \"year-month\" string (e.g., \"2010-07\")\n",
    "4. convert the index of the dataframe ```df``` to consist of datetime objects (timestamps) for further processing\n",
    "\n",
    "We'll go through these steps in more detail below, but let's first have a peek at which the ```sales_by_year``` dictionary looks like so that we can better understand the operations on it.  Execute the code cell below to first print the keys of the dictionary, and then to print the values associated with one of those keys.  Each of the keys is a year, and each of the values are the sales data for that year."
   ]
  },
  {
   "cell_type": "code",
   "execution_count": 12,
   "metadata": {
    "nbgrader": {
     "grade": false,
     "grade_id": "cell-992c6db4d3af841c",
     "locked": true,
     "schema_version": 3,
     "solution": false,
     "task": false
    }
   },
   "outputs": [
    {
     "name": "stdout",
     "output_type": "stream",
     "text": [
      "dict_keys(['2007', '2005', '2014', '2003', '2006', '2001', '2017', '2011', '2016', '2010', '2008', '2015', '2004', '2009', '2012', '2002', '2013', '2000'])\n",
      "       Pens  Pencils  Erasers  Paper\n",
      "Month                               \n",
      "Jan     596      656       85    585\n",
      "Feb     493      444      213    546\n",
      "Mar     372      430      140    364\n",
      "Apr     209      357      107    301\n",
      "May     274      383      141    281\n",
      "Jun     251      353       93    291\n",
      "Jul     162      170       83    222\n",
      "Aug     554      692      155    608\n",
      "Sep     508      655      288    640\n",
      "Oct     282      342      192    463\n",
      "Nov     234      210      126    317\n",
      "Dec     147      193      164    199\n"
     ]
    }
   ],
   "source": [
    "print(sales_by_year.keys())\n",
    "print(sales_by_year['2010'])"
   ]
  },
  {
   "cell_type": "markdown",
   "metadata": {
    "nbgrader": {
     "grade": false,
     "grade_id": "cell-d9b63766df11cb46",
     "locked": true,
     "schema_version": 3,
     "solution": false,
     "task": false
    }
   },
   "source": [
    "### Step 7.\n",
    "\n",
    "The first step of the function above does the following:\n",
    "\n",
    "<pre>\n",
    "df = pd.concat(sales, axis=0, keys=sorted(sales.keys()), names=['Year', 'Month'])\n",
    "</pre>\n",
    "\n",
    "The first argument in the call to ```pd.concat``` is a dictionary that maps year names to associated dataframes. The name for that dictionary internal to the function is ```sales```, and of course we are free to name it whatever we want inside the function.  When we called our ```make_dataframe_from_sales_data``` function above, we passed in the dictionary that we had computed named ```sales_by_year```.\n",
    "\n",
    "Each separate dataframe consists of a sequence of rows, one for each month of the year, and we want to concatenate each of those rows, one after the other.  Therefore, we want to concatenate row-wise, or along ```axis=0```, which is the second argument passed to the ```concat``` function.\n",
    "\n",
    "We observed previously that the dictionary keys were not in chronological or lexographical order, but we would like our new dataframe to progress chronologically from 2001 through 2017.  We can accomplish this by sorting the dictionary keys as part of the concatenation process, as is indicated in the third argument passed to the ```concat``` function.\n",
    "\n",
    "The last argument passed to the ```concat``` function reads ```names=['Year', 'Month']```, which is just a way of indicating what we want to call the index of the new concatenated dataframe.  The role of these names will become more apparent below.\n",
    "\n",
    "Execute the following code cells below, so that you can create a concatenated dataframe and then examine its contents and summary information.  As noted, internally the function refers to the dictionary as ```sales```, which acquires its value when we pass an argument to the function.  But the object ```sales``` does not currently exist in this notebook, so we can create it by assigning it to the ```sales_by_year``` dictionary that we created previously."
   ]
  },
  {
   "cell_type": "code",
   "execution_count": 13,
   "metadata": {
    "nbgrader": {
     "grade": false,
     "grade_id": "cell-04e623bf94f161bd",
     "locked": true,
     "schema_version": 3,
     "solution": false,
     "task": false
    }
   },
   "outputs": [],
   "source": [
    "sales = sales_by_year\n",
    "df = pd.concat(sales, axis=0, keys=sorted(sales.keys()), names=['Year', 'Month'])"
   ]
  },
  {
   "cell_type": "code",
   "execution_count": 14,
   "metadata": {
    "nbgrader": {
     "grade": false,
     "grade_id": "cell-0cd327cd233d2bdc",
     "locked": true,
     "schema_version": 3,
     "solution": false,
     "task": false
    }
   },
   "outputs": [
    {
     "data": {
      "text/html": [
       "<div>\n",
       "<style scoped>\n",
       "    .dataframe tbody tr th:only-of-type {\n",
       "        vertical-align: middle;\n",
       "    }\n",
       "\n",
       "    .dataframe tbody tr th {\n",
       "        vertical-align: top;\n",
       "    }\n",
       "\n",
       "    .dataframe thead th {\n",
       "        text-align: right;\n",
       "    }\n",
       "</style>\n",
       "<table border=\"1\" class=\"dataframe\">\n",
       "  <thead>\n",
       "    <tr style=\"text-align: right;\">\n",
       "      <th></th>\n",
       "      <th></th>\n",
       "      <th>Pens</th>\n",
       "      <th>Pencils</th>\n",
       "      <th>Erasers</th>\n",
       "      <th>Paper</th>\n",
       "    </tr>\n",
       "    <tr>\n",
       "      <th>Year</th>\n",
       "      <th>Month</th>\n",
       "      <th></th>\n",
       "      <th></th>\n",
       "      <th></th>\n",
       "      <th></th>\n",
       "    </tr>\n",
       "  </thead>\n",
       "  <tbody>\n",
       "    <tr>\n",
       "      <th rowspan=\"5\" valign=\"top\">2000</th>\n",
       "      <th>Jan</th>\n",
       "      <td>429</td>\n",
       "      <td>566</td>\n",
       "      <td>80</td>\n",
       "      <td>494</td>\n",
       "    </tr>\n",
       "    <tr>\n",
       "      <th>Feb</th>\n",
       "      <td>373</td>\n",
       "      <td>430</td>\n",
       "      <td>84</td>\n",
       "      <td>468</td>\n",
       "    </tr>\n",
       "    <tr>\n",
       "      <th>Mar</th>\n",
       "      <td>262</td>\n",
       "      <td>322</td>\n",
       "      <td>23</td>\n",
       "      <td>279</td>\n",
       "    </tr>\n",
       "    <tr>\n",
       "      <th>Apr</th>\n",
       "      <td>168</td>\n",
       "      <td>243</td>\n",
       "      <td>37</td>\n",
       "      <td>220</td>\n",
       "    </tr>\n",
       "    <tr>\n",
       "      <th>May</th>\n",
       "      <td>219</td>\n",
       "      <td>268</td>\n",
       "      <td>37</td>\n",
       "      <td>250</td>\n",
       "    </tr>\n",
       "    <tr>\n",
       "      <th>...</th>\n",
       "      <th>...</th>\n",
       "      <td>...</td>\n",
       "      <td>...</td>\n",
       "      <td>...</td>\n",
       "      <td>...</td>\n",
       "    </tr>\n",
       "    <tr>\n",
       "      <th rowspan=\"5\" valign=\"top\">2017</th>\n",
       "      <th>Aug</th>\n",
       "      <td>595</td>\n",
       "      <td>702</td>\n",
       "      <td>153</td>\n",
       "      <td>690</td>\n",
       "    </tr>\n",
       "    <tr>\n",
       "      <th>Sep</th>\n",
       "      <td>607</td>\n",
       "      <td>700</td>\n",
       "      <td>322</td>\n",
       "      <td>688</td>\n",
       "    </tr>\n",
       "    <tr>\n",
       "      <th>Oct</th>\n",
       "      <td>372</td>\n",
       "      <td>409</td>\n",
       "      <td>264</td>\n",
       "      <td>481</td>\n",
       "    </tr>\n",
       "    <tr>\n",
       "      <th>Nov</th>\n",
       "      <td>282</td>\n",
       "      <td>301</td>\n",
       "      <td>223</td>\n",
       "      <td>351</td>\n",
       "    </tr>\n",
       "    <tr>\n",
       "      <th>Dec</th>\n",
       "      <td>162</td>\n",
       "      <td>289</td>\n",
       "      <td>197</td>\n",
       "      <td>249</td>\n",
       "    </tr>\n",
       "  </tbody>\n",
       "</table>\n",
       "<p>216 rows × 4 columns</p>\n",
       "</div>"
      ],
      "text/plain": [
       "            Pens  Pencils  Erasers  Paper\n",
       "Year Month                               \n",
       "2000 Jan     429      566       80    494\n",
       "     Feb     373      430       84    468\n",
       "     Mar     262      322       23    279\n",
       "     Apr     168      243       37    220\n",
       "     May     219      268       37    250\n",
       "...          ...      ...      ...    ...\n",
       "2017 Aug     595      702      153    690\n",
       "     Sep     607      700      322    688\n",
       "     Oct     372      409      264    481\n",
       "     Nov     282      301      223    351\n",
       "     Dec     162      289      197    249\n",
       "\n",
       "[216 rows x 4 columns]"
      ]
     },
     "execution_count": 14,
     "metadata": {},
     "output_type": "execute_result"
    }
   ],
   "source": [
    "df"
   ]
  },
  {
   "cell_type": "code",
   "execution_count": 15,
   "metadata": {
    "nbgrader": {
     "grade": false,
     "grade_id": "cell-e3e714eae7760e50",
     "locked": true,
     "schema_version": 3,
     "solution": false,
     "task": false
    }
   },
   "outputs": [
    {
     "name": "stdout",
     "output_type": "stream",
     "text": [
      "<class 'pandas.core.frame.DataFrame'>\n",
      "MultiIndex: 216 entries, ('2000', 'Jan') to ('2017', 'Dec')\n",
      "Data columns (total 4 columns):\n",
      " #   Column   Non-Null Count  Dtype\n",
      "---  ------   --------------  -----\n",
      " 0   Pens     216 non-null    int64\n",
      " 1   Pencils  216 non-null    int64\n",
      " 2   Erasers  216 non-null    int64\n",
      " 3   Paper    216 non-null    int64\n",
      "dtypes: int64(4)\n",
      "memory usage: 7.5+ KB\n"
     ]
    }
   ],
   "source": [
    "df.info()"
   ]
  },
  {
   "cell_type": "markdown",
   "metadata": {
    "nbgrader": {
     "grade": false,
     "grade_id": "cell-d1f58a5e89f29c7a",
     "locked": true,
     "schema_version": 3,
     "solution": false,
     "task": false
    }
   },
   "source": [
    "### Step 8.\n",
    "\n",
    "You can see from the summary information printed above that the index of the dataframe ```df``` is a MultiIndex, also known as a hierarchical index.  (These are described in more detail [here](https://pandas.pydata.org/pandas-docs/stable/user_guide/advanced.html).)  This is because there are two pieces of information that are being used to index each row, the Year and the Month.  That information is organized hierarchically: for each Year (first level of MultiIndex), there are 12 Months (second level of the MultiIndex).  Together the Year and Month make up a multilevel index for each row.\n",
    "\n",
    "In the code cell below, print the index of the dataframe to examine its contents."
   ]
  },
  {
   "cell_type": "code",
   "execution_count": 16,
   "metadata": {
    "nbgrader": {
     "grade": false,
     "grade_id": "cell-cdcbf29b6b412780",
     "locked": true,
     "schema_version": 3,
     "solution": false,
     "task": false
    }
   },
   "outputs": [
    {
     "name": "stdout",
     "output_type": "stream",
     "text": [
      "MultiIndex([('2000', 'Jan'),\n",
      "            ('2000', 'Feb'),\n",
      "            ('2000', 'Mar'),\n",
      "            ('2000', 'Apr'),\n",
      "            ('2000', 'May'),\n",
      "            ('2000', 'Jun'),\n",
      "            ('2000', 'Jul'),\n",
      "            ('2000', 'Aug'),\n",
      "            ('2000', 'Sep'),\n",
      "            ('2000', 'Oct'),\n",
      "            ...\n",
      "            ('2017', 'Mar'),\n",
      "            ('2017', 'Apr'),\n",
      "            ('2017', 'May'),\n",
      "            ('2017', 'Jun'),\n",
      "            ('2017', 'Jul'),\n",
      "            ('2017', 'Aug'),\n",
      "            ('2017', 'Sep'),\n",
      "            ('2017', 'Oct'),\n",
      "            ('2017', 'Nov'),\n",
      "            ('2017', 'Dec')],\n",
      "           names=['Year', 'Month'], length=216)\n"
     ]
    }
   ],
   "source": [
    "print(df.index)"
   ]
  },
  {
   "cell_type": "markdown",
   "metadata": {
    "nbgrader": {
     "grade": false,
     "grade_id": "cell-291c935f5ec6b755",
     "locked": true,
     "schema_version": 3,
     "solution": false,
     "task": false
    }
   },
   "source": [
    "### Step 9.\n",
    "\n",
    "Ultimately, we want convert this Year-Month MultiIndex into a single-level index composed of dates (i.e., datetime objects), since Pandas can then make better use of that information.  The somewhat obscure code in our function definition does that in a series of steps:\n",
    "\n",
    "<pre>\n",
    "    # convert month strings to numbers\n",
    "    lookup = {'Jan': '01', 'Feb': '02', 'Mar': '03',\n",
    "              'Apr': '04', 'May': '05', 'Jun': '06',\n",
    "              'Jul': '07', 'Aug': '08', 'Sep': '09',\n",
    "              'Oct': '10', 'Nov': '11', 'Dec': '12'}\n",
    "    df = df.rename(index=lookup)\n",
    "\n",
    "    # convert the (year, month) MultiIndex to a 'year-month' index\n",
    "    df.index = [\"-\".join(x) for x in df.index.ravel()]\n",
    "\n",
    "    # convert the 'year-month' strings to datetime objects\n",
    "    df.index = pd.to_datetime(df.index)\n",
    "</pre>\n",
    "\n",
    "As noted, these steps do the following:\n",
    "* rename the index of the dataframe ```df``` so that month abbreviation strings are converted to number strings\n",
    "* reconfigure the index of the dataframe ```df``` so that each index label is a combined \"year-month\" string (e.g., \"2010-07\")\n",
    "* convert the index of the dataframe ```df``` to consist of datetime objects (timestamps) for further processing\n",
    "\n",
    "Each of these steps is broken out in successive code cells.  Execute each cell in turn, and print the dataframe index after each transformation so that you can understand the transformation that is taking place.  If necessary, look up available documentation on what the various pieces do (e.g., ```df.rename```, ```\"-\".join```, ```pd.to_datetime```)."
   ]
  },
  {
   "cell_type": "code",
   "execution_count": 17,
   "metadata": {
    "nbgrader": {
     "grade": false,
     "grade_id": "cell-27dbbc3f4354443e",
     "locked": true,
     "schema_version": 3,
     "solution": false,
     "task": false
    }
   },
   "outputs": [],
   "source": [
    "# convert month strings to numbers\n",
    "lookup = {'Jan': '01', 'Feb': '02', 'Mar': '03',\n",
    "              'Apr': '04', 'May': '05', 'Jun': '06',\n",
    "              'Jul': '07', 'Aug': '08', 'Sep': '09',\n",
    "              'Oct': '10', 'Nov': '11', 'Dec': '12'}\n",
    "df = df.rename(index=lookup)"
   ]
  },
  {
   "cell_type": "code",
   "execution_count": 18,
   "metadata": {
    "nbgrader": {
     "grade": false,
     "grade_id": "cell-01b619993d287543",
     "locked": true,
     "schema_version": 3,
     "solution": false,
     "task": false
    }
   },
   "outputs": [],
   "source": [
    "# convert the (year, month) MultiIndex to a 'year-month' index\n",
    "df.index = [\"-\".join(x) for x in df.index.ravel()]"
   ]
  },
  {
   "cell_type": "code",
   "execution_count": 19,
   "metadata": {
    "nbgrader": {
     "grade": false,
     "grade_id": "cell-e0fff7e0dc202148",
     "locked": true,
     "schema_version": 3,
     "solution": false,
     "task": false
    }
   },
   "outputs": [],
   "source": [
    "# convert the 'year-month' strings to datetime objects\n",
    "df.index = pd.to_datetime(df.index)"
   ]
  },
  {
   "cell_type": "markdown",
   "metadata": {
    "nbgrader": {
     "grade": false,
     "grade_id": "cell-dfb0ab2cca98985a",
     "locked": true,
     "schema_version": 3,
     "solution": false,
     "task": false
    }
   },
   "source": [
    "Examine the resulting dataframe and print its summary information to verify that the data have been processed into a suitable format."
   ]
  },
  {
   "cell_type": "code",
   "execution_count": 20,
   "metadata": {
    "nbgrader": {
     "grade": false,
     "grade_id": "cell-c3b9c1d8d32e2df6",
     "locked": true,
     "schema_version": 3,
     "solution": false,
     "task": false
    }
   },
   "outputs": [
    {
     "data": {
      "text/html": [
       "<div>\n",
       "<style scoped>\n",
       "    .dataframe tbody tr th:only-of-type {\n",
       "        vertical-align: middle;\n",
       "    }\n",
       "\n",
       "    .dataframe tbody tr th {\n",
       "        vertical-align: top;\n",
       "    }\n",
       "\n",
       "    .dataframe thead th {\n",
       "        text-align: right;\n",
       "    }\n",
       "</style>\n",
       "<table border=\"1\" class=\"dataframe\">\n",
       "  <thead>\n",
       "    <tr style=\"text-align: right;\">\n",
       "      <th></th>\n",
       "      <th>Pens</th>\n",
       "      <th>Pencils</th>\n",
       "      <th>Erasers</th>\n",
       "      <th>Paper</th>\n",
       "    </tr>\n",
       "  </thead>\n",
       "  <tbody>\n",
       "    <tr>\n",
       "      <th>2000-01-01</th>\n",
       "      <td>429</td>\n",
       "      <td>566</td>\n",
       "      <td>80</td>\n",
       "      <td>494</td>\n",
       "    </tr>\n",
       "    <tr>\n",
       "      <th>2000-02-01</th>\n",
       "      <td>373</td>\n",
       "      <td>430</td>\n",
       "      <td>84</td>\n",
       "      <td>468</td>\n",
       "    </tr>\n",
       "    <tr>\n",
       "      <th>2000-03-01</th>\n",
       "      <td>262</td>\n",
       "      <td>322</td>\n",
       "      <td>23</td>\n",
       "      <td>279</td>\n",
       "    </tr>\n",
       "    <tr>\n",
       "      <th>2000-04-01</th>\n",
       "      <td>168</td>\n",
       "      <td>243</td>\n",
       "      <td>37</td>\n",
       "      <td>220</td>\n",
       "    </tr>\n",
       "    <tr>\n",
       "      <th>2000-05-01</th>\n",
       "      <td>219</td>\n",
       "      <td>268</td>\n",
       "      <td>37</td>\n",
       "      <td>250</td>\n",
       "    </tr>\n",
       "    <tr>\n",
       "      <th>...</th>\n",
       "      <td>...</td>\n",
       "      <td>...</td>\n",
       "      <td>...</td>\n",
       "      <td>...</td>\n",
       "    </tr>\n",
       "    <tr>\n",
       "      <th>2017-08-01</th>\n",
       "      <td>595</td>\n",
       "      <td>702</td>\n",
       "      <td>153</td>\n",
       "      <td>690</td>\n",
       "    </tr>\n",
       "    <tr>\n",
       "      <th>2017-09-01</th>\n",
       "      <td>607</td>\n",
       "      <td>700</td>\n",
       "      <td>322</td>\n",
       "      <td>688</td>\n",
       "    </tr>\n",
       "    <tr>\n",
       "      <th>2017-10-01</th>\n",
       "      <td>372</td>\n",
       "      <td>409</td>\n",
       "      <td>264</td>\n",
       "      <td>481</td>\n",
       "    </tr>\n",
       "    <tr>\n",
       "      <th>2017-11-01</th>\n",
       "      <td>282</td>\n",
       "      <td>301</td>\n",
       "      <td>223</td>\n",
       "      <td>351</td>\n",
       "    </tr>\n",
       "    <tr>\n",
       "      <th>2017-12-01</th>\n",
       "      <td>162</td>\n",
       "      <td>289</td>\n",
       "      <td>197</td>\n",
       "      <td>249</td>\n",
       "    </tr>\n",
       "  </tbody>\n",
       "</table>\n",
       "<p>216 rows × 4 columns</p>\n",
       "</div>"
      ],
      "text/plain": [
       "            Pens  Pencils  Erasers  Paper\n",
       "2000-01-01   429      566       80    494\n",
       "2000-02-01   373      430       84    468\n",
       "2000-03-01   262      322       23    279\n",
       "2000-04-01   168      243       37    220\n",
       "2000-05-01   219      268       37    250\n",
       "...          ...      ...      ...    ...\n",
       "2017-08-01   595      702      153    690\n",
       "2017-09-01   607      700      322    688\n",
       "2017-10-01   372      409      264    481\n",
       "2017-11-01   282      301      223    351\n",
       "2017-12-01   162      289      197    249\n",
       "\n",
       "[216 rows x 4 columns]"
      ]
     },
     "execution_count": 20,
     "metadata": {},
     "output_type": "execute_result"
    }
   ],
   "source": [
    "df"
   ]
  },
  {
   "cell_type": "code",
   "execution_count": 21,
   "metadata": {
    "nbgrader": {
     "grade": false,
     "grade_id": "cell-c8906650ab668aeb",
     "locked": true,
     "schema_version": 3,
     "solution": false,
     "task": false
    }
   },
   "outputs": [
    {
     "name": "stdout",
     "output_type": "stream",
     "text": [
      "<class 'pandas.core.frame.DataFrame'>\n",
      "DatetimeIndex: 216 entries, 2000-01-01 to 2017-12-01\n",
      "Data columns (total 4 columns):\n",
      " #   Column   Non-Null Count  Dtype\n",
      "---  ------   --------------  -----\n",
      " 0   Pens     216 non-null    int64\n",
      " 1   Pencils  216 non-null    int64\n",
      " 2   Erasers  216 non-null    int64\n",
      " 3   Paper    216 non-null    int64\n",
      "dtypes: int64(4)\n",
      "memory usage: 8.4 KB\n"
     ]
    }
   ],
   "source": [
    "df.info()"
   ]
  },
  {
   "cell_type": "markdown",
   "metadata": {
    "nbgrader": {
     "grade": false,
     "grade_id": "cell-ceb09f3d889da6a5",
     "locked": true,
     "schema_version": 3,
     "solution": false,
     "task": false
    }
   },
   "source": [
    "### Step 10.\n",
    "\n",
    "Now that the sales data have all been integrated into one big, chronologically ordered dataframe, we can examine it to look for temporal trends.\n",
    "\n",
    "Let's first plot the data, which is something we also did in the video.  In the code cell below, plot the sales data in the dataframe using its ```plot``` method.  You should be able to observe substantial seasonal variation throughout each year."
   ]
  },
  {
   "cell_type": "markdown",
   "metadata": {},
   "source": [
    "## Graded Cell\n",
    "\n",
    "This cell is worth 25% of the grade for this assignment. <i>Note: a self-check will not accompany this assignment</i><br>\n",
    "Your plot should look like this: <br><img src=\"IntegratingDSStep10.png\" width=400 height=400  align=\"left\"/>"
   ]
  },
  {
   "cell_type": "code",
   "execution_count": 22,
   "metadata": {
    "nbgrader": {
     "grade": true,
     "grade_id": "cell-af4797fb1c12779f",
     "locked": false,
     "points": 0,
     "schema_version": 3,
     "solution": true,
     "task": false
    }
   },
   "outputs": [
    {
     "data": {
      "text/plain": [
       "<matplotlib.axes._subplots.AxesSubplot at 0x7f7d993b65c0>"
      ]
     },
     "execution_count": 22,
     "metadata": {},
     "output_type": "execute_result"
    },
    {
     "data": {
      "image/png": "[encoded data removed]",
      "text/plain": [
       "<Figure size 432x288 with 1 Axes>"
      ]
     },
     "metadata": {
      "needs_background": "light"
     },
     "output_type": "display_data"
    }
   ],
   "source": [
    "df.plot()"
   ]
  },
  {
   "cell_type": "markdown",
   "metadata": {
    "nbgrader": {
     "grade": false,
     "grade_id": "cell-b9d0a9d6b47e503a",
     "locked": true,
     "schema_version": 3,
     "solution": false,
     "task": false
    }
   },
   "source": [
    "### Step 11.\n",
    "\n",
    "While the detailed data represented in the plot of the dataframe is useful, the within-year seasonal variation makes it more difficult to discern longer timescale trends.  Fortunately, having gone through the trouble to convert the (Year, Month) data to proper datetime objects, Pandas is now able to operate on that information.\n",
    "\n",
    "In the video, we demonstrated the code shown in the cell below.  Execute the code cell below and inspect the resulting plot."
   ]
  },
  {
   "cell_type": "code",
   "execution_count": 23,
   "metadata": {
    "nbgrader": {
     "grade": false,
     "grade_id": "cell-255a64b39e16d0d3",
     "locked": true,
     "schema_version": 3,
     "solution": false,
     "task": false
    }
   },
   "outputs": [
    {
     "data": {
      "text/plain": [
       "<matplotlib.axes._subplots.AxesSubplot at 0x7f7d993b6cc0>"
      ]
     },
     "execution_count": 23,
     "metadata": {},
     "output_type": "execute_result"
    },
    {
     "data": {
      "image/png": "[encoded data removed]",
      "text/plain": [
       "<Figure size 432x288 with 1 Axes>"
      ]
     },
     "metadata": {
      "needs_background": "light"
     },
     "output_type": "display_data"
    }
   ],
   "source": [
    "df.resample('Y').sum().plot()"
   ]
  },
  {
   "cell_type": "markdown",
   "metadata": {
    "nbgrader": {
     "grade": false,
     "grade_id": "cell-f65da517d22a3211",
     "locked": true,
     "schema_version": 3,
     "solution": false,
     "task": false
    }
   },
   "source": [
    "The code above computes and plots the total amount of sales of each item type <i>per year</i>.  The raw data in the dataframe represents sales per month, but we can <i>resample</i> along the time axis, at a different frequency.  The argument to the ```resample``` method in the code above is 'Y', which instructs the method to resample at the time scale of a year.  Other frequencies (referred to as \"offset aliases\") are possible with other values of that argument, as described in [this documentation](https://pandas.pydata.org/pandas-docs/stable/user_guide/timeseries.html#offset-aliases).\n",
    "\n",
    "Resampling is similar to a groupby operation, in that rows in a dataframe are split into subgroups (based on the sampling frequency), such that an aggregating function can be applied to each subgroup.  In the plot above, the aggregating function we used was ```sum```, since we were interested in computing the total number of sales in each product category over each year.\n",
    "\n",
    "In the code cell below, write an expression to compute and plot the mean sales in each product category over each quarter of the year (aligned with the end of each calendar quarter).  Consult the link provided above to determine the appropriate string alias to resample over quarters instead of years."
   ]
  },
  {
   "cell_type": "markdown",
   "metadata": {},
   "source": [
    "## Graded Cell\n",
    "\n",
    "This cell is worth 25% of the grade for this assignment. <i>Note: a self-check will not accompany this assignment</i><br>\n",
    "Your plot should look like this: <br><img src=\"IntegratingDSStep11.png\" width=400 height=400  align=\"left\"/>"
   ]
  },
  {
   "cell_type": "code",
   "execution_count": 24,
   "metadata": {
    "nbgrader": {
     "grade": true,
     "grade_id": "cell-a77df9908a2a87b3",
     "locked": false,
     "points": 0,
     "schema_version": 3,
     "solution": true,
     "task": false
    }
   },
   "outputs": [
    {
     "data": {
      "text/plain": [
       "<matplotlib.axes._subplots.AxesSubplot at 0x7f7d98c04128>"
      ]
     },
     "execution_count": 24,
     "metadata": {},
     "output_type": "execute_result"
    },
    {
     "data": {
      "image/png": "[encoded data removed]",
      "text/plain": [
       "<Figure size 432x288 with 1 Axes>"
      ]
     },
     "metadata": {
      "needs_background": "light"
     },
     "output_type": "display_data"
    }
   ],
   "source": [
    "df.resample('Q').mean().plot()"
   ]
  }
 ],
 "metadata": {
  "kernelspec": {
   "display_name": "Python 3",
   "language": "python",
   "name": "python3"
  },
  "language_info": {
   "codemirror_mode": {
    "name": "ipython",
    "version": 3
   },
   "file_extension": ".py",
   "mimetype": "text/x-python",
   "name": "python",
   "nbconvert_exporter": "python",
   "pygments_lexer": "ipython3",
   "version": "3.6.7"
  }
 },
 "nbformat": 4,
 "nbformat_minor": 2
}
